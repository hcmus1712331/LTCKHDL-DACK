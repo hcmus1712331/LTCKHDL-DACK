{
 "cells": [
  {
   "cell_type": "markdown",
   "metadata": {},
   "source": [
    "# ĐỒ ÁN CUỐI KỲ MÔN LẬP TRÌNH CHO KHOA HỌC DỮ LIỆU\n",
    "\n",
    "#### Họ và tên: Nguyễn Thành Đạt\n",
    "\n",
    "#### MSSV: 1712331\n",
    "\n",
    "---\n",
    "\n",
    "## Nguồn lấy dữ liệu\n",
    "\n",
    " - Dữ liệu phục vụ cho đồ án lấy từ [kaggle](https://www.kaggle.com/tahminashoaib86/global-cause-of-the-deaths-other-than-diseases)\n",
    " \n",
    " - Dữ liệu được truy cập hoàn toàn miễn phí.\n",
    " \n",
    "---\n",
    " \n",
    "## Mô tả\n",
    "\n",
    " - Dữ liệu là một phần của dự án Global Disease Burden 2017.\n",
    "\n",
    " - Dữ liệu bao gồm số lượng người chết trong mỗi nước qua các năm cùng với các nguyên nhân được phân loại gồm: xung đột và khủng bố (conflict and terrorism), nạn đói (famine), đại dịch (pandemic), thảm họa tự nhiên (natural disaster) và các nguyên nhân khác (Other injuries).\n",
    " \n",
    " - Không tính số lượng thương vong xảy ra do bệnh tật.\n",
    "\n",
    "---\n",
    "\n",
    "\n",
    "## Import thư viện"
   ]
  },
  {
   "cell_type": "code",
   "execution_count": 1,
   "metadata": {},
   "outputs": [],
   "source": [
    "import pandas as pd"
   ]
  },
  {
   "cell_type": "markdown",
   "metadata": {},
   "source": [
    "---\n",
    "\n",
    "## Khám phá dữ liệu\n",
    "\n",
    "#### Load dữ liệu"
   ]
  },
  {
   "cell_type": "code",
   "execution_count": 9,
   "metadata": {},
   "outputs": [
    {
     "data": {
      "text/html": [
       "<div>\n",
       "<style scoped>\n",
       "    .dataframe tbody tr th:only-of-type {\n",
       "        vertical-align: middle;\n",
       "    }\n",
       "\n",
       "    .dataframe tbody tr th {\n",
       "        vertical-align: top;\n",
       "    }\n",
       "\n",
       "    .dataframe thead th {\n",
       "        text-align: right;\n",
       "    }\n",
       "</style>\n",
       "<table border=\"1\" class=\"dataframe\">\n",
       "  <thead>\n",
       "    <tr style=\"text-align: right;\">\n",
       "      <th></th>\n",
       "      <th>Country</th>\n",
       "      <th>ISO_CODE</th>\n",
       "      <th>Year</th>\n",
       "      <th>Deaths</th>\n",
       "      <th>Cause</th>\n",
       "      <th>Male POP</th>\n",
       "      <th>Female POP</th>\n",
       "      <th>Total Pop</th>\n",
       "      <th>GDP</th>\n",
       "      <th>PCAP</th>\n",
       "    </tr>\n",
       "  </thead>\n",
       "  <tbody>\n",
       "    <tr>\n",
       "      <th>0</th>\n",
       "      <td>Afghanistan</td>\n",
       "      <td>AFG</td>\n",
       "      <td>1980</td>\n",
       "      <td>35000</td>\n",
       "      <td>Conflict and Terrorism</td>\n",
       "      <td>6788279.0</td>\n",
       "      <td>6568232.0</td>\n",
       "      <td>13356511.0</td>\n",
       "      <td>3.641723e+09</td>\n",
       "      <td>272.655286</td>\n",
       "    </tr>\n",
       "    <tr>\n",
       "      <th>1</th>\n",
       "      <td>Albania</td>\n",
       "      <td>ALB</td>\n",
       "      <td>1980</td>\n",
       "      <td>0</td>\n",
       "      <td>Conflict and Terrorism</td>\n",
       "      <td>1371795.0</td>\n",
       "      <td>1300202.0</td>\n",
       "      <td>2671997.0</td>\n",
       "      <td>NaN</td>\n",
       "      <td>NaN</td>\n",
       "    </tr>\n",
       "    <tr>\n",
       "      <th>2</th>\n",
       "      <td>Algeria</td>\n",
       "      <td>DZA</td>\n",
       "      <td>1980</td>\n",
       "      <td>0</td>\n",
       "      <td>Conflict and Terrorism</td>\n",
       "      <td>9682121.0</td>\n",
       "      <td>9539544.0</td>\n",
       "      <td>19221665.0</td>\n",
       "      <td>4.234528e+10</td>\n",
       "      <td>2202.997365</td>\n",
       "    </tr>\n",
       "    <tr>\n",
       "      <th>3</th>\n",
       "      <td>American Samoa</td>\n",
       "      <td>ASM</td>\n",
       "      <td>1980</td>\n",
       "      <td>0</td>\n",
       "      <td>Conflict and Terrorism</td>\n",
       "      <td>NaN</td>\n",
       "      <td>NaN</td>\n",
       "      <td>NaN</td>\n",
       "      <td>NaN</td>\n",
       "      <td>NaN</td>\n",
       "    </tr>\n",
       "    <tr>\n",
       "      <th>4</th>\n",
       "      <td>Angola</td>\n",
       "      <td>AGO</td>\n",
       "      <td>1980</td>\n",
       "      <td>5882</td>\n",
       "      <td>Conflict and Terrorism</td>\n",
       "      <td>4226098.0</td>\n",
       "      <td>4115191.0</td>\n",
       "      <td>8341289.0</td>\n",
       "      <td>5.930503e+09</td>\n",
       "      <td>710.981648</td>\n",
       "    </tr>\n",
       "  </tbody>\n",
       "</table>\n",
       "</div>"
      ],
      "text/plain": [
       "          Country ISO_CODE  Year  Deaths                   Cause   Male POP  \\\n",
       "0     Afghanistan      AFG  1980   35000  Conflict and Terrorism  6788279.0   \n",
       "1         Albania      ALB  1980       0  Conflict and Terrorism  1371795.0   \n",
       "2         Algeria      DZA  1980       0  Conflict and Terrorism  9682121.0   \n",
       "3  American Samoa      ASM  1980       0  Conflict and Terrorism        NaN   \n",
       "4          Angola      AGO  1980    5882  Conflict and Terrorism  4226098.0   \n",
       "\n",
       "   Female POP   Total Pop           GDP         PCAP  \n",
       "0   6568232.0  13356511.0  3.641723e+09   272.655286  \n",
       "1   1300202.0   2671997.0           NaN          NaN  \n",
       "2   9539544.0  19221665.0  4.234528e+10  2202.997365  \n",
       "3         NaN         NaN           NaN          NaN  \n",
       "4   4115191.0   8341289.0  5.930503e+09   710.981648  "
      ]
     },
     "execution_count": 9,
     "metadata": {},
     "output_type": "execute_result"
    }
   ],
   "source": [
    "df = pd.read_csv('Caused_of_Deaths.csv', engine='python')\n",
    "df.head()"
   ]
  },
  {
   "cell_type": "markdown",
   "metadata": {},
   "source": [
    "#### Tổng quan về dữ liệu"
   ]
  },
  {
   "cell_type": "code",
   "execution_count": 4,
   "metadata": {},
   "outputs": [
    {
     "data": {
      "text/plain": [
       "(36860, 10)"
      ]
     },
     "execution_count": 4,
     "metadata": {},
     "output_type": "execute_result"
    }
   ],
   "source": [
    "df.shape"
   ]
  },
  {
   "cell_type": "markdown",
   "metadata": {},
   "source": [
    "Dữ liệu gồm:\n",
    " - 36860 dòng\n",
    " - 10 cột"
   ]
  },
  {
   "cell_type": "code",
   "execution_count": 5,
   "metadata": {},
   "outputs": [
    {
     "name": "stdout",
     "output_type": "stream",
     "text": [
      "<class 'pandas.core.frame.DataFrame'>\n",
      "RangeIndex: 36860 entries, 0 to 36859\n",
      "Data columns (total 10 columns):\n",
      " #   Column      Non-Null Count  Dtype  \n",
      "---  ------      --------------  -----  \n",
      " 0   Country     36860 non-null  object \n",
      " 1   ISO_CODE    36860 non-null  object \n",
      " 2   Year        36860 non-null  int64  \n",
      " 3   Deaths      36860 non-null  int64  \n",
      " 4   Cause       36860 non-null  object \n",
      " 5   Male POP    28156 non-null  float64\n",
      " 6   Female POP  28156 non-null  float64\n",
      " 7   Total Pop   28156 non-null  float64\n",
      " 8   GDP         26332 non-null  float64\n",
      " 9   PCAP        26320 non-null  float64\n",
      "dtypes: float64(5), int64(2), object(3)\n",
      "memory usage: 2.8+ MB\n"
     ]
    }
   ],
   "source": [
    "df.info()"
   ]
  },
  {
   "cell_type": "markdown",
   "metadata": {},
   "source": [
    "Nhận xét: Các cột đều chứa giá trị (không có giá NULL) "
   ]
  },
  {
   "cell_type": "code",
   "execution_count": 6,
   "metadata": {},
   "outputs": [
    {
     "data": {
      "text/html": [
       "<div>\n",
       "<style scoped>\n",
       "    .dataframe tbody tr th:only-of-type {\n",
       "        vertical-align: middle;\n",
       "    }\n",
       "\n",
       "    .dataframe tbody tr th {\n",
       "        vertical-align: top;\n",
       "    }\n",
       "\n",
       "    .dataframe thead th {\n",
       "        text-align: right;\n",
       "    }\n",
       "</style>\n",
       "<table border=\"1\" class=\"dataframe\">\n",
       "  <thead>\n",
       "    <tr style=\"text-align: right;\">\n",
       "      <th></th>\n",
       "      <th>Year</th>\n",
       "      <th>Deaths</th>\n",
       "      <th>Male POP</th>\n",
       "      <th>Female POP</th>\n",
       "      <th>Total Pop</th>\n",
       "      <th>GDP</th>\n",
       "      <th>PCAP</th>\n",
       "    </tr>\n",
       "  </thead>\n",
       "  <tbody>\n",
       "    <tr>\n",
       "      <th>count</th>\n",
       "      <td>36860.000000</td>\n",
       "      <td>36860.000000</td>\n",
       "      <td>2.815600e+04</td>\n",
       "      <td>2.815600e+04</td>\n",
       "      <td>2.815600e+04</td>\n",
       "      <td>2.633200e+04</td>\n",
       "      <td>26320.000000</td>\n",
       "    </tr>\n",
       "    <tr>\n",
       "      <th>mean</th>\n",
       "      <td>1998.500000</td>\n",
       "      <td>247.950027</td>\n",
       "      <td>1.615312e+07</td>\n",
       "      <td>1.592458e+07</td>\n",
       "      <td>3.207770e+07</td>\n",
       "      <td>2.231626e+11</td>\n",
       "      <td>8485.748803</td>\n",
       "    </tr>\n",
       "    <tr>\n",
       "      <th>std</th>\n",
       "      <td>10.966005</td>\n",
       "      <td>4080.560011</td>\n",
       "      <td>6.253971e+07</td>\n",
       "      <td>5.903292e+07</td>\n",
       "      <td>1.215569e+08</td>\n",
       "      <td>1.026739e+12</td>\n",
       "      <td>14017.964799</td>\n",
       "    </tr>\n",
       "    <tr>\n",
       "      <th>min</th>\n",
       "      <td>1980.000000</td>\n",
       "      <td>0.000000</td>\n",
       "      <td>2.922900e+04</td>\n",
       "      <td>3.007200e+04</td>\n",
       "      <td>5.930100e+04</td>\n",
       "      <td>3.102000e+07</td>\n",
       "      <td>94.564731</td>\n",
       "    </tr>\n",
       "    <tr>\n",
       "      <th>25%</th>\n",
       "      <td>1989.000000</td>\n",
       "      <td>0.000000</td>\n",
       "      <td>1.004304e+06</td>\n",
       "      <td>1.015241e+06</td>\n",
       "      <td>2.018122e+06</td>\n",
       "      <td>2.606621e+09</td>\n",
       "      <td>780.365369</td>\n",
       "    </tr>\n",
       "    <tr>\n",
       "      <th>50%</th>\n",
       "      <td>1998.500000</td>\n",
       "      <td>0.000000</td>\n",
       "      <td>3.345875e+06</td>\n",
       "      <td>3.350894e+06</td>\n",
       "      <td>6.711121e+06</td>\n",
       "      <td>1.230247e+10</td>\n",
       "      <td>2474.231146</td>\n",
       "    </tr>\n",
       "    <tr>\n",
       "      <th>75%</th>\n",
       "      <td>2008.000000</td>\n",
       "      <td>3.000000</td>\n",
       "      <td>1.011918e+07</td>\n",
       "      <td>1.016909e+07</td>\n",
       "      <td>2.024687e+07</td>\n",
       "      <td>7.843658e+10</td>\n",
       "      <td>9422.852726</td>\n",
       "    </tr>\n",
       "    <tr>\n",
       "      <th>max</th>\n",
       "      <td>2017.000000</td>\n",
       "      <td>503532.000000</td>\n",
       "      <td>7.116872e+08</td>\n",
       "      <td>6.747078e+08</td>\n",
       "      <td>1.386395e+09</td>\n",
       "      <td>1.948539e+13</td>\n",
       "      <td>118823.648369</td>\n",
       "    </tr>\n",
       "  </tbody>\n",
       "</table>\n",
       "</div>"
      ],
      "text/plain": [
       "               Year         Deaths      Male POP    Female POP     Total Pop  \\\n",
       "count  36860.000000   36860.000000  2.815600e+04  2.815600e+04  2.815600e+04   \n",
       "mean    1998.500000     247.950027  1.615312e+07  1.592458e+07  3.207770e+07   \n",
       "std       10.966005    4080.560011  6.253971e+07  5.903292e+07  1.215569e+08   \n",
       "min     1980.000000       0.000000  2.922900e+04  3.007200e+04  5.930100e+04   \n",
       "25%     1989.000000       0.000000  1.004304e+06  1.015241e+06  2.018122e+06   \n",
       "50%     1998.500000       0.000000  3.345875e+06  3.350894e+06  6.711121e+06   \n",
       "75%     2008.000000       3.000000  1.011918e+07  1.016909e+07  2.024687e+07   \n",
       "max     2017.000000  503532.000000  7.116872e+08  6.747078e+08  1.386395e+09   \n",
       "\n",
       "                GDP           PCAP  \n",
       "count  2.633200e+04   26320.000000  \n",
       "mean   2.231626e+11    8485.748803  \n",
       "std    1.026739e+12   14017.964799  \n",
       "min    3.102000e+07      94.564731  \n",
       "25%    2.606621e+09     780.365369  \n",
       "50%    1.230247e+10    2474.231146  \n",
       "75%    7.843658e+10    9422.852726  \n",
       "max    1.948539e+13  118823.648369  "
      ]
     },
     "execution_count": 6,
     "metadata": {},
     "output_type": "execute_result"
    }
   ],
   "source": [
    "df.describe()"
   ]
  },
  {
   "cell_type": "markdown",
   "metadata": {},
   "source": [
    "#### Mô tả về các cột dữ liệu\n",
    " \n",
    "| Tên cột    | Mô tả                                                                                                                                                                                                          |\n",
    "|:------------|:----------------------------------------------------------------------------------------------------------------------------------------------------------------------------------------------------------------|\n",
    "| Country    | Tên của các nước                                                                                                                                                                                               |\n",
    "| ISO_CODE   | Mã hiệu mỗi quốc gia (3 ký tự)                                                                                                                                                                                 |\n",
    "| Year       | Năm ghi nhận số liệu                                                                                                                                                                                           |\n",
    "| Deaths     | Số lượng người tử vong                                                                                                                                                                                         |\n",
    "| Cause      | Nguyên nhân tử vong (được phân loại theo: xung đột và khủng bố (conflict and terrorism), nạn đói (famine), đại dịch (pandemic), thảm họa tự nhiên (natural disaster) và các nguyên nhân khác (Other injuries)) |\n",
    "| Male POP   | Dân số nam                                                                                                                                                                                                     |\n",
    "| Female POP | Dân số nữ                                                                                                                                                                                                      |\n",
    "| Total Pop  | Tổng dân số                                                                                                                                                                                                    |\n",
    "| GDP        | Tổng sản phẩm quốc nội (tính theo USD)                                                                                                                                                                         |\n",
    "| PCAP       | Thu nhập bình quân đầu người (tính theo USD)                                                                                                                                                                   |\n"
   ]
  },
  {
   "cell_type": "markdown",
   "metadata": {},
   "source": [
    "---\n",
    "\n",
    "## Tiền xử lý dữ liệu\n",
    "\n",
    "#### Loại những cột không quan tâm đến"
   ]
  },
  {
   "cell_type": "code",
   "execution_count": 10,
   "metadata": {},
   "outputs": [
    {
     "name": "stdout",
     "output_type": "stream",
     "text": [
      "<class 'pandas.core.frame.DataFrame'>\n",
      "RangeIndex: 36860 entries, 0 to 36859\n",
      "Data columns (total 7 columns):\n",
      " #   Column     Non-Null Count  Dtype  \n",
      "---  ------     --------------  -----  \n",
      " 0   Country    36860 non-null  object \n",
      " 1   Year       36860 non-null  int64  \n",
      " 2   Deaths     36860 non-null  int64  \n",
      " 3   Cause      36860 non-null  object \n",
      " 4   Total Pop  28156 non-null  float64\n",
      " 5   GDP        26332 non-null  float64\n",
      " 6   PCAP       26320 non-null  float64\n",
      "dtypes: float64(3), int64(2), object(2)\n",
      "memory usage: 2.0+ MB\n"
     ]
    }
   ],
   "source": [
    "dropped_columns = ['ISO_CODE', 'Male POP', 'Female POP']\n",
    "\n",
    "df = df.drop(columns=dropped_columns)\n",
    "\n",
    "df.info()"
   ]
  },
  {
   "cell_type": "code",
   "execution_count": null,
   "metadata": {},
   "outputs": [],
   "source": []
  },
  {
   "cell_type": "code",
   "execution_count": null,
   "metadata": {},
   "outputs": [],
   "source": []
  },
  {
   "cell_type": "code",
   "execution_count": null,
   "metadata": {},
   "outputs": [],
   "source": []
  },
  {
   "cell_type": "markdown",
   "metadata": {},
   "source": [
    "---\n",
    "\n",
    "## Các câu hỏi cần trả lời\n",
    "\n",
    " - Câu 1:\n",
    " \n",
    " - Câu 2:\n",
    " \n",
    " - Câu 3:\n",
    " \n",
    "---\n",
    "\n",
    "### Câu 1"
   ]
  },
  {
   "cell_type": "code",
   "execution_count": null,
   "metadata": {},
   "outputs": [],
   "source": []
  },
  {
   "cell_type": "markdown",
   "metadata": {},
   "source": [
    "### Câu 2"
   ]
  },
  {
   "cell_type": "code",
   "execution_count": null,
   "metadata": {},
   "outputs": [],
   "source": []
  },
  {
   "cell_type": "markdown",
   "metadata": {},
   "source": [
    "### Câu 3"
   ]
  },
  {
   "cell_type": "code",
   "execution_count": null,
   "metadata": {},
   "outputs": [],
   "source": []
  },
  {
   "cell_type": "markdown",
   "metadata": {},
   "source": [
    "---\n",
    "\n",
    "## Nguồn tham khảo\n",
    "\n"
   ]
  },
  {
   "cell_type": "code",
   "execution_count": null,
   "metadata": {},
   "outputs": [],
   "source": []
  }
 ],
 "metadata": {
  "kernelspec": {
   "display_name": "Python 3",
   "language": "python",
   "name": "python3"
  },
  "language_info": {
   "codemirror_mode": {
    "name": "ipython",
    "version": 3
   },
   "file_extension": ".py",
   "mimetype": "text/x-python",
   "name": "python",
   "nbconvert_exporter": "python",
   "pygments_lexer": "ipython3",
   "version": "3.7.6"
  }
 },
 "nbformat": 4,
 "nbformat_minor": 4
}
